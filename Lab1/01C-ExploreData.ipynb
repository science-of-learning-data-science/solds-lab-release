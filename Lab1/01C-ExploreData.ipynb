{
 "cells": [
  {
   "cell_type": "markdown",
   "metadata": {
    "cell_id": "24fae2aa-bc9b-4983-9845-1f7954743985",
    "nbgrader": {
     "grade": false,
     "grade_id": "cell-61d2c1df95317a7e",
     "locked": true,
     "schema_version": 3,
     "solution": false,
     "task": false
    },
    "tags": []
   },
   "source": [
    "# Lab 01C: Explore Data"
   ]
  },
  {
   "cell_type": "markdown",
   "metadata": {},
   "source": [
    "## Part 0 - Reminder about collaboration on lab assignments in PSYC 193L\n",
    "\n",
    "We strongly believe in the value of collaborating with your peers for enhancing your learning experience in PSYC 193L. Being able to successfully collaborate with others is an important skill to have when you enter the workforce, and everyone can get better at collaboration with practice. However, for collaboration to be maximally valuable, we need to set some ground rules, building on the expectations laid out in the [course syllabus](https://science-of-learning-data-science.github.io/): Show Up, Try, Ask for Help When You Need It, Be Professional. \n",
    "\n",
    "\n",
    "### Guidelines\n",
    "* Rotate responsibilities between group members. \n",
    "* Choose a driver and a navigator.\n",
    "* Discuss your thinking process openly with your group. \n",
    "* Be supportive, respectful, and patient with one another.\n",
    "\n",
    "#### Rotate responsibilities between group members. \n",
    "You will generally be working with the same people (from your discussion section) for each lab, and a new group of people for the next lab. Because you will be working with the same classmates for the next week or so, you will have the opportunity to share responsibilities with one another. \n",
    "\n",
    "#### Choose a driver and a navigator.\n",
    "We suggest that one group member volunteer to act as the \"driver\" (and share their screen) while the other group members act as the \"navigators.\" Next time, it is a good idea to exchange roles, so that everyone gets a chance to act as the driver at least once, if possible. \n",
    "\n",
    "#### Discuss your thinking process openly with your group. \n",
    "We suggest that you discuss the way you are thinking about each problem with your group. It is more important to us that you gain practice explaining your reasoning to yourself and to your peers than it is to simply state what you think the \"right answer\" is, without explaining your reasoning. \n",
    "\n",
    "#### Be supportive, respectful, and patient with one another. \n",
    "Try to give everyone an opportunity to play both a leading and supporting role. If you feel relatively comfortable with R, we encourage you to proactively encourage other members of your group who feel the least confident about writing R code to take a leading role. If you feel less confident about your R skills, please know that you are not alone! With practice and persistence over the course of the coming weeks, you will find your skills improving! \n",
    "\n",
    "#### Every student is still responsible for submitting their own lab assignments. \n",
    "Although you are encouraged to work together on these lab assignments, please remember that everyone is responsiblef or submitting their own assignments on Canvas. "
   ]
  },
  {
   "cell_type": "code",
   "execution_count": null,
   "metadata": {
    "cell_id": "a6cd10f5-3d09-40ac-80a9-bc32d9a38c74",
    "nbgrader": {
     "grade": false,
     "grade_id": "cell-affc3df3b715f561",
     "locked": true,
     "schema_version": 3,
     "solution": false,
     "task": false
    }
   },
   "outputs": [],
   "source": [
    "# Run this code to load the required packages\n",
    "suppressMessages(suppressWarnings(suppressPackageStartupMessages({\n",
    "  library(mosaic)\n",
    "  library(supernova)\n",
    "  library(fivethirtyeight)\n",
    "  library(fivethirtyeightdata)\n",
    "\n",
    "})))"
   ]
  },
  {
   "cell_type": "markdown",
   "metadata": {
    "cell_id": "6f05b76b-fa2a-412a-97da-361f370d8779",
    "nbgrader": {
     "grade": false,
     "grade_id": "cell-18877f8ce49e1aac",
     "locked": true,
     "schema_version": 3,
     "solution": false,
     "task": false
    },
    "tags": []
   },
   "source": [
    "## Part 1 - Exploring the College Majors Dataset\n",
    "There are a lot of reasons why people pick the major they pick. Future earnings and job security are just a few of them. What do the data look like on the job prospects of different college majors out there?\n",
    "\n",
    "Let’s start with a data set called `college_recent_grads` from [FiveThirtyEight](http://fivethirtyeight.com/) that was the basis of this article: [The Economic Guide to Picking a College Major](https://fivethirtyeight.com/features/the-economic-guide-to-picking-a-college-major/). \n"
   ]
  },
  {
   "cell_type": "markdown",
   "metadata": {
    "nbgrader": {
     "grade": false,
     "grade_id": "cell-3ccc537d360a3eee",
     "locked": true,
     "schema_version": 3,
     "solution": false,
     "task": false
    }
   },
   "source": [
    "1.1 - Run some code to take a look at a bit of the dataframe (hint: use one of the functions introduced in the beginning of Chapter 2 in coursekata). \n",
    "\n",
    "What are the cases? Are there any variables that look interesting to you? "
   ]
  },
  {
   "cell_type": "code",
   "execution_count": null,
   "metadata": {},
   "outputs": [],
   "source": [
    "# Write your code here\n"
   ]
  },
  {
   "cell_type": "markdown",
   "metadata": {
    "nbgrader": {
     "grade": false,
     "grade_id": "cell-77dc278f7807880a",
     "locked": true,
     "schema_version": 3,
     "solution": false,
     "task": false
    }
   },
   "source": [
    "Here is a bit more information about the `college_recent_grads` data frame. It contains 173 rows representing majors (recent graduates) and 21 variables:\n",
    "\n",
    "- `rank` Rank by median earnings\n",
    "- `major_code` Major code, FO1DP in ACS PUMS\n",
    "- `major` Major description\n",
    "- `major_category` Category of major from Carnevale et al\n",
    "- `total` Total number of people with major\n",
    "- `sample_size` Sample size (unweighted) of full-time, year-round ONLY (used for earnings)\n",
    "- `men` Men with major\n",
    "- `women` Women with major\n",
    "- `sharewomen` Proportion women\n",
    "- `employed` Number employed (ESR == 1 or 2)\n",
    "- `employed_fulltime` Employed 35 hours or more\n",
    "- `employed_parttime` Employed less than 35 hours\n",
    "- `employed_fulltime_yearround` Employed at least 50 weeks (WKW == 1) and at least 35 hours (WKHP >= 35)\n",
    "- `unemployed` Number unemployed (ESR == 3)\n",
    "- `unemployment_rate` Unemployed / (Unemployed + Employed)\n",
    "- `p25th` 25th percentile of earnings\n",
    "- `median` Median earnings of full-time, year-round workers\n",
    "- `p75th` 75th percentile of earnings\n",
    "- `college_jobs` Number with job requiring a college degree\n",
    "- `non_college_jobs` Number with job not requiring a college degree\n",
    "- `low_wage_jobs` Number in low-wage service jobs"
   ]
  },
  {
   "cell_type": "markdown",
   "metadata": {
    "nbgrader": {
     "grade": false,
     "grade_id": "cell-50c7ab165ccb84b3",
     "locked": true,
     "schema_version": 3,
     "solution": false,
     "task": false
    }
   },
   "source": [
    "1.2 - Try printing out the names of all the majors. Which one(s) are interesting to you? Do you already have a major in mind? Do you see it in the list?\n"
   ]
  },
  {
   "cell_type": "code",
   "execution_count": null,
   "metadata": {},
   "outputs": [],
   "source": [
    "# Write your code here\n"
   ]
  },
  {
   "cell_type": "markdown",
   "metadata": {
    "nbgrader": {
     "grade": false,
     "grade_id": "cell-925ef6dcfdae9094",
     "locked": true,
     "schema_version": 3,
     "solution": false,
     "task": false
    }
   },
   "source": [
    "1.3 - Use the `filter()` function to look up information about a major that is interesting to you. Did you learn something about the major?"
   ]
  },
  {
   "cell_type": "code",
   "execution_count": null,
   "metadata": {},
   "outputs": [],
   "source": [
    "# Write your code here\n"
   ]
  },
  {
   "cell_type": "markdown",
   "metadata": {},
   "source": [
    "WRITE YOUR RESPONSE HERE"
   ]
  },
  {
   "cell_type": "markdown",
   "metadata": {
    "nbgrader": {
     "grade": false,
     "grade_id": "cell-96c329fa9b3bd041",
     "locked": true,
     "schema_version": 3,
     "solution": false,
     "task": false
    }
   },
   "source": [
    "## Part 2 - Ask questions about the data"
   ]
  },
  {
   "cell_type": "markdown",
   "metadata": {
    "nbgrader": {
     "grade": false,
     "grade_id": "cell-3988572b499d75d0",
     "locked": true,
     "schema_version": 3,
     "solution": false,
     "task": false
    }
   },
   "source": [
    "2.1  - Out of the variables in `college_recent_grads`, which is the variable you are most interested in maximizing when trying to pick a major? What are the top 10 majors for that variable? Do you see any common themes?\n",
    "\n",
    "Use the `arrange()` function to sort the data in *descending order* by the variable you are most inerested in *maximizing* and look at the top 10 majors that are highest on that variable. (hint the function `desc()` will help sort them from greatest to least)\n",
    "\n",
    "Do you see any common themes?\n"
   ]
  },
  {
   "cell_type": "code",
   "execution_count": null,
   "metadata": {},
   "outputs": [],
   "source": [
    "# Write your code here\n"
   ]
  },
  {
   "cell_type": "markdown",
   "metadata": {},
   "source": [
    "WRITE YOUR RESPONSE HERE"
   ]
  },
  {
   "cell_type": "markdown",
   "metadata": {
    "nbgrader": {
     "grade": false,
     "grade_id": "cell-208a4f24b2d5a79d",
     "locked": true,
     "schema_version": 3,
     "solution": false,
     "task": false
    }
   },
   "source": [
    "2.2 - Out of the variables in `college_recent_grads`, which is the variable you are most interested in **minimizing** when trying to pick a major? What 10 majors are lowest on that variable? Do you see any common themes?\n",
    "\n",
    "Use the `arrange()` function to sort the data by the variable you are most inerested in **minimizing**, then us the `head()` function to look at the top 10 majors that are lowest on that variable. Do you see any common themes?"
   ]
  },
  {
   "cell_type": "code",
   "execution_count": null,
   "metadata": {},
   "outputs": [],
   "source": [
    "# Write your code here\n"
   ]
  },
  {
   "cell_type": "markdown",
   "metadata": {},
   "source": [
    "WRITE YOUR RESPONSE HERE"
   ]
  },
  {
   "cell_type": "markdown",
   "metadata": {
    "nbgrader": {
     "grade": false,
     "grade_id": "cell-436be6f47742539b",
     "locked": true,
     "schema_version": 3,
     "solution": false,
     "task": false
    }
   },
   "source": [
    "2.3 - How many majors graduate more women than men? "
   ]
  },
  {
   "cell_type": "code",
   "execution_count": null,
   "metadata": {},
   "outputs": [],
   "source": [
    "# Write some code here.\n"
   ]
  },
  {
   "cell_type": "markdown",
   "metadata": {},
   "source": [
    "**WRITE YOUR PLAIN TEXT RESPONSE HERE**"
   ]
  },
  {
   "cell_type": "markdown",
   "metadata": {},
   "source": [
    "2.4 How many majors have more employed than unemployeed recent graduates?"
   ]
  },
  {
   "cell_type": "code",
   "execution_count": null,
   "metadata": {},
   "outputs": [],
   "source": [
    "# Write your code here\n"
   ]
  },
  {
   "cell_type": "markdown",
   "metadata": {},
   "source": [
    "**WRITE YOUR PLAIN TEXT RESPONSE HERE**"
   ]
  },
  {
   "cell_type": "markdown",
   "metadata": {
    "nbgrader": {
     "grade": false,
     "grade_id": "cell-5603bb86f5e82b3d",
     "locked": true,
     "schema_version": 3,
     "solution": false,
     "task": false
    }
   },
   "source": [
    "2.5 In which major is the ratio of men to women closest to 1:1? (Hint: think about what this means in terms of variables we already have!)"
   ]
  },
  {
   "cell_type": "code",
   "execution_count": null,
   "metadata": {},
   "outputs": [],
   "source": [
    "# Write your code here\n"
   ]
  },
  {
   "cell_type": "markdown",
   "metadata": {},
   "source": [
    "**WRITE YOUR PLAIN TEXT RESPONSE HERE**"
   ]
  },
  {
   "cell_type": "markdown",
   "metadata": {
    "nbgrader": {
     "grade": false,
     "grade_id": "cell-5e95b5c5107537a5",
     "locked": true,
     "schema_version": 3,
     "solution": false,
     "task": false
    }
   },
   "source": [
    "2.6 Create your own question about the variables in the college majors data set and write some code that helps you answer the question with the data!"
   ]
  },
  {
   "cell_type": "markdown",
   "metadata": {},
   "source": [
    "**WRITE YOUR QUESTION HERE**"
   ]
  },
  {
   "cell_type": "code",
   "execution_count": null,
   "metadata": {},
   "outputs": [],
   "source": [
    "# Write your code here\n"
   ]
  },
  {
   "cell_type": "markdown",
   "metadata": {},
   "source": [
    "**WRITE YOUR RESPONSE HERE**"
   ]
  },
  {
   "cell_type": "markdown",
   "metadata": {
    "nbgrader": {
     "grade": false,
     "grade_id": "cell-767a579ff5d171d3",
     "locked": true,
     "schema_version": 3,
     "solution": false,
     "task": false
    }
   },
   "source": [
    "### LAB 1 Reflection\n",
    "As part of each lab we ask that you look back at the three parts that you completed and write a short reflection about the experience with the lab. \n",
    "- What parts did you find most challanging? \n",
    "- What was the most interesting part? \n",
    "- How does this lab connect to the CourseKata readings?\n",
    "- What concepts did this lab cover?\n",
    "- Is there anything else you would like us to know about your experience with the lab?\n",
    "\n",
    "(note: this response is a large part of your grade on the overall lab, please take time to give us thoughtful feedback, it will help us make the course better for future students!)"
   ]
  },
  {
   "cell_type": "markdown",
   "metadata": {},
   "source": [
    "**WRITE YOUR REFLECTION HERE. PLEASE DO YOUR BEST TO ADDRESS EACH OF THE QUESTIONS ABOVE**"
   ]
  },
  {
   "cell_type": "markdown",
   "metadata": {
    "nbgrader": {
     "grade": false,
     "grade_id": "cell-8e4bae702af040b1",
     "locked": true,
     "schema_version": 3,
     "solution": false,
     "task": false
    }
   },
   "source": [
    "### Before submitting this lab via DataHub, check if each component of this lab assignment runs top to bottom? \n",
    "When you have finished your lab assignments, please ensure that your Jupyter notebooks run cleanly from “top to bottom” and generate the output you expect. To test that your completed notebook runs top to bottom, click Kernel > Restart and Run All in the menu bar at the top of the notebook."
   ]
  }
 ],
 "metadata": {
  "celltoolbar": "Create Assignment",
  "deepnote_execution_queue": [],
  "deepnote_notebook_id": "ef5e09bc-96b4-49d8-af88-5f1671831ab9",
  "kernelspec": {
   "display_name": "R",
   "language": "R",
   "name": "ir"
  },
  "language_info": {
   "codemirror_mode": "r",
   "file_extension": ".r",
   "mimetype": "text/x-r-source",
   "name": "R",
   "pygments_lexer": "r",
   "version": "4.1.0"
  }
 },
 "nbformat": 4,
 "nbformat_minor": 2
}
