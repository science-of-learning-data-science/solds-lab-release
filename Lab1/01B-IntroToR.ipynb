{
 "cells": [
  {
   "cell_type": "markdown",
   "metadata": {
    "cell_id": "00000-d1a22c98-2519-40d6-8858-a7407ce90314",
    "nbgrader": {
     "grade": false,
     "grade_id": "cell-3b0b9a2835974ada",
     "locked": true,
     "schema_version": 3,
     "solution": false,
     "task": false
    }
   },
   "source": [
    "# Lab 01B: Introduction to R\n"
   ]
  },
  {
   "cell_type": "code",
   "execution_count": null,
   "metadata": {
    "nbgrader": {
     "grade": false,
     "grade_id": "cell-604be9508120aef2",
     "locked": true,
     "schema_version": 3,
     "solution": false,
     "task": false
    }
   },
   "outputs": [],
   "source": [
    "suppressMessages(suppressWarnings(suppressPackageStartupMessages({\n",
    "require(testthat)\n",
    "require(mosaic)\n",
    "})))"
   ]
  },
  {
   "cell_type": "markdown",
   "metadata": {},
   "source": [
    "## Part 0 - Reminder about collaboration on lab assignments in PSYC 193L\n",
    "\n",
    "We strongly believe in the value of collaborating with your peers for enhancing your learning experience in PSYC 193L. Being able to successfully collaborate with others is an important skill to have when you enter the workforce, and everyone can get better at collaboration with practice. However, for collaboration to be maximally valuable, we need to set some ground rules, building on the expectations laid out in the [course syllabus](https://science-of-learning-data-science.github.io/): Show Up, Try, Ask for Help When You Need It, Be Professional. \n",
    "\n",
    "\n",
    "### Guidelines\n",
    "* Rotate responsibilities between group members. \n",
    "* Choose a driver and a navigator.\n",
    "* Discuss your thinking process openly with your group. \n",
    "* Be supportive, respectful, and patient with one another.\n",
    "\n",
    "#### Rotate responsibilities between group members. \n",
    "You will generally be working with the same people (from your discussion section) for each lab, and a new group of people for the next lab. Because you will be working with the same classmates for the next week or so, you will have the opportunity to share responsibilities with one another. \n",
    "\n",
    "#### Choose a driver and a navigator.\n",
    "We suggest that one group member volunteer to act as the \"driver\" (and share their screen) while the other group members act as the \"navigators.\" Next time, it is a good idea to exchange roles, so that everyone gets a chance to act as the driver at least once, if possible. \n",
    "\n",
    "#### Discuss your thinking process openly with your group. \n",
    "We suggest that you discuss the way you are thinking about each problem with your group. It is more important to us that you gain practice explaining your reasoning to yourself and to your peers than it is to simply state what you think the \"right answer\" is, without explaining your reasoning. \n",
    "\n",
    "#### Be supportive, respectful, and patient with one another. \n",
    "Try to give everyone an opportunity to play both a leading and supporting role. If you feel relatively comfortable with R, we encourage you to proactively encourage other members of your group who feel the least confident about writing R code to take a leading role. If you feel less confident about your R skills, please know that you are not alone! With practice and persistence over the course of the coming weeks, you will find your skills improving!\n",
    "\n",
    "#### Every student is still responsible for submitting their own lab assignments. \n",
    "Although you are encouraged to work together on these lab assignments, please remember that everyone is responsiblef or submitting their own assignments on Canvas. "
   ]
  },
  {
   "cell_type": "markdown",
   "metadata": {
    "nbgrader": {
     "grade": false,
     "grade_id": "cell-f0dacab1bdab9f03",
     "locked": true,
     "schema_version": 3,
     "solution": false,
     "task": false
    }
   },
   "source": [
    "# Superheroes dataset\n",
    "We're going to use the information in this image to help us do a mini report on Superheroes of the 1930's.\n",
    "\n",
    "As we get started, take a look at the following image and take a moment to generate questions. \n",
    "\n",
    "<img src=\"https://i.imgur.com/RHx7pIT.png\" title=\"assorted superheroes with a variety of features\" width = 100% />"
   ]
  },
  {
   "cell_type": "markdown",
   "metadata": {
    "nbgrader": {
     "grade": false,
     "grade_id": "cell-1196c68ecbd7bf9e",
     "locked": true,
     "schema_version": 3,
     "solution": false,
     "task": false
    }
   },
   "source": [
    "## Part 1 - Working with R variables\n",
    "1.1 We'll practice using R to understand a bit about characters that wore capes and coats.\n",
    "\n",
    "In the code cell below:    \n",
    "   \n",
    "- Count the characters wearing a cape and save that into an object called `capes`. \n",
    "\n",
    "- Count the characters wearing a coat and save that into an object called `coats`.   "
   ]
  },
  {
   "cell_type": "code",
   "execution_count": null,
   "metadata": {},
   "outputs": [],
   "source": [
    "# Write your code here\n"
   ]
  },
  {
   "cell_type": "code",
   "execution_count": null,
   "metadata": {},
   "outputs": [],
   "source": [
    "print(capes)\n",
    "print(coats)"
   ]
  },
  {
   "cell_type": "markdown",
   "metadata": {
    "nbgrader": {
     "grade": false,
     "grade_id": "cell-9a2efb108e08df8f",
     "locked": true,
     "schema_version": 3,
     "solution": false,
     "task": false
    }
   },
   "source": [
    "1.2 - What would happen if we wrote the code `capes == coats` in the code cell below? \n",
    "First, write your prediction in the markdown cell, then try running the code in the code cell. Save the value of the outcome as a variable called `capes_and_coats`"
   ]
  },
  {
   "cell_type": "markdown",
   "metadata": {},
   "source": [
    "> the output would be FALSE because the number of capes and coats are not equal"
   ]
  },
  {
   "cell_type": "code",
   "execution_count": null,
   "metadata": {},
   "outputs": [],
   "source": [
    "# Try the code here\n"
   ]
  },
  {
   "cell_type": "code",
   "execution_count": null,
   "metadata": {},
   "outputs": [],
   "source": [
    "print(capes_and_coats)\n"
   ]
  },
  {
   "cell_type": "markdown",
   "metadata": {
    "nbgrader": {
     "grade": false,
     "grade_id": "cell-2bd9573ec3cc36cd",
     "locked": true,
     "schema_version": 3,
     "solution": false,
     "task": false
    }
   },
   "source": [
    "1.3 - Write some R code that would return an answer to this question: \n",
    "Are there more characters that wear capes than coats? Save the answe in a variable called `more_capes_than_coats`."
   ]
  },
  {
   "cell_type": "code",
   "execution_count": null,
   "metadata": {},
   "outputs": [],
   "source": [
    "# Write your code here \n"
   ]
  },
  {
   "cell_type": "code",
   "execution_count": null,
   "metadata": {},
   "outputs": [],
   "source": [
    "print(more_capes_than_coats)\n"
   ]
  },
  {
   "cell_type": "markdown",
   "metadata": {
    "nbgrader": {
     "grade": false,
     "grade_id": "cell-e03fa9a5d020a771",
     "locked": true,
     "schema_version": 3,
     "solution": false,
     "task": false
    }
   },
   "source": [
    "1.4 - Write some R code that would return an answer to this question: \n",
    "**What is the total number of capes *and* coats?** Store your answer in an R Object `total_capes_and_coats`. \n"
   ]
  },
  {
   "cell_type": "code",
   "execution_count": null,
   "metadata": {},
   "outputs": [],
   "source": [
    "# Write your code here\n"
   ]
  },
  {
   "cell_type": "code",
   "execution_count": null,
   "metadata": {},
   "outputs": [],
   "source": [
    "print(total_capes_and_coats)\n"
   ]
  },
  {
   "cell_type": "markdown",
   "metadata": {},
   "source": [
    "## Part 2 - Working with Vectors\n",
    "2.1 - Another aspect of superhero costumes we might be interested in exploring are the colors. Three of \n",
    "the most common colors in early superhero costumes were red, blue, and yellow (because those were the \n",
    "easiest color to render in the four-color printing process that was used at the time). \n",
    "\n",
    "For each color, count the number of characters who have that color as the ***main color*** of their costume and save it into the objects in the code box below (right now they are all set to zero). \n",
    "(You should only include each super hero *once* so that if you add up the values you put in for each of the colors you get the total number of super heros which is 20)"
   ]
  },
  {
   "cell_type": "code",
   "execution_count": null,
   "metadata": {},
   "outputs": [],
   "source": [
    "red <- 0\n",
    "blue <- 0\n",
    "yellow <- 0\n",
    "black <- 0\n",
    "green<- 0\n",
    "purple <- 0\n",
    "colors <- c(red, blue, yellow, black, green, purple)"
   ]
  },
  {
   "cell_type": "code",
   "execution_count": null,
   "metadata": {},
   "outputs": [],
   "source": [
    "print(colors)\n"
   ]
  },
  {
   "cell_type": "markdown",
   "metadata": {
    "nbgrader": {
     "grade": false,
     "grade_id": "cell-8f92166920ffd2ce",
     "locked": true,
     "schema_version": 3,
     "solution": false,
     "task": false
    }
   },
   "source": [
    "2.2 - What do these line of code do?\n",
    "\n",
    "```\n",
    "colors <- c(red, blue, yellow, black, green, purple)\n",
    "colors\n",
    "```"
   ]
  },
  {
   "cell_type": "markdown",
   "metadata": {},
   "source": [
    "This creates a vector called colors that has the number values that we created in the previous code block as its elements"
   ]
  },
  {
   "cell_type": "markdown",
   "metadata": {
    "nbgrader": {
     "grade": false,
     "grade_id": "cell-641ae24ca588261b",
     "locked": true,
     "schema_version": 3,
     "solution": false,
     "task": false
    }
   },
   "source": [
    "2.3 - How is this code different from the code above? How will the output be different?\n",
    "\n",
    "```\n",
    "colors2 <- c(\"red\", \"blue\", \"yellow\", \"black\", \"green\", \"purple\")\n",
    "colors2\n",
    "```"
   ]
  },
  {
   "cell_type": "markdown",
   "metadata": {},
   "source": [
    "This code creates a vector called colors2 that has the words \"red\", \"blue\", etc. as its elements."
   ]
  },
  {
   "cell_type": "markdown",
   "metadata": {
    "nbgrader": {
     "grade": false,
     "grade_id": "cell-1179fe28c9c584e2",
     "locked": true,
     "schema_version": 3,
     "solution": false,
     "task": false
    }
   },
   "source": [
    "## Part 3 - Working with Data Frames\n",
    "The colors in the costumes are created using different kinds of ink. We created a data frame called `superhero_colors` that has the types of ink need to make different colors."
   ]
  },
  {
   "cell_type": "code",
   "execution_count": null,
   "metadata": {
    "nbgrader": {
     "grade": false,
     "grade_id": "cell-f704a95853304f21",
     "locked": true,
     "schema_version": 3,
     "solution": false,
     "task": false
    }
   },
   "outputs": [],
   "source": [
    "superhero_colors<- data.frame(\n",
    "names = c(\"red\", \"blue\", \"yellow\", \"black\", \"green\", \"purple\"),\n",
    "carmine_ink = c(1, 0, 0, 0, 0, 1), \n",
    "blue_ink = c(0, 1, 0, 0, 1, 1), \n",
    "yellow_ink = c(0, 0, 1,0, 1, 0),\n",
    "black_ink = c(0,0,0,1,0,0))\n",
    "\n"
   ]
  },
  {
   "cell_type": "markdown",
   "metadata": {
    "nbgrader": {
     "grade": false,
     "grade_id": "cell-df454708c44ca29b",
     "locked": true,
     "schema_version": 3,
     "solution": false,
     "task": false
    }
   },
   "source": [
    "3.1 - Add the vector `colors` to the data frame. Call the new collumn `colors`."
   ]
  },
  {
   "cell_type": "code",
   "execution_count": null,
   "metadata": {},
   "outputs": [],
   "source": [
    "# Write your code here\n"
   ]
  },
  {
   "cell_type": "code",
   "execution_count": null,
   "metadata": {},
   "outputs": [],
   "source": [
    "print(superhero_colors$colors)\n"
   ]
  },
  {
   "cell_type": "markdown",
   "metadata": {
    "nbgrader": {
     "grade": false,
     "grade_id": "cell-da6b0cab498297dc",
     "locked": true,
     "schema_version": 3,
     "solution": false,
     "task": false
    }
   },
   "source": [
    "3.2 - We have one of these 4 color prinking press, but the printer is out of `yellow_ink`! Use the `filter()` function to get all rows in tha data frame where  `yellow_ink` equals `0` from the `superhero_colors` data frame. Save the new data frame in an R object called `broken_printer_superhero_colors`"
   ]
  },
  {
   "cell_type": "code",
   "execution_count": null,
   "metadata": {},
   "outputs": [],
   "source": [
    "# Write your code here\n"
   ]
  },
  {
   "cell_type": "code",
   "execution_count": null,
   "metadata": {},
   "outputs": [],
   "source": [
    "print(broken_printer_superhero_colors)\n"
   ]
  },
  {
   "cell_type": "markdown",
   "metadata": {
    "nbgrader": {
     "grade": false,
     "grade_id": "cell-cf5ee14fae520e42",
     "locked": true,
     "schema_version": 3,
     "solution": false,
     "task": false
    }
   },
   "source": [
    "3.3 - Now that we have removed all colors we cannot print with our broken printer, we want to know what superheros we can include in our comic book. Find the number of super heros whose main costume color can be printed without yellow_ink.  Save this value in an R object called `printable_superheros`"
   ]
  },
  {
   "cell_type": "code",
   "execution_count": null,
   "metadata": {},
   "outputs": [],
   "source": [
    "# Write your code here\n"
   ]
  },
  {
   "cell_type": "code",
   "execution_count": null,
   "metadata": {},
   "outputs": [],
   "source": [
    "print(printable_superheros)\n"
   ]
  },
  {
   "cell_type": "markdown",
   "metadata": {},
   "source": [
    "## All done? Great work!\n",
    "\n",
    "\n",
    "Please add additional comments regarding either what you learned during this lab assignment so far, or aspects of it you found particularly challenging here.\n",
    "\n",
    "INSERT YOUR RESPONSE HERE."
   ]
  }
 ],
 "metadata": {
  "celltoolbar": "Create Assignment",
  "deepnote_execution_queue": [],
  "deepnote_notebook_id": "4384b575-e36f-4ce6-8b82-47aefa70d439",
  "kernelspec": {
   "display_name": "R",
   "language": "R",
   "name": "ir"
  },
  "language_info": {
   "codemirror_mode": "r",
   "file_extension": ".r",
   "mimetype": "text/x-r-source",
   "name": "R",
   "pygments_lexer": "r",
   "version": "4.1.0"
  },
  "nbsimplegrader": {
   "is_published": false,
   "publish_config": {
    "classes": {},
    "options": {
     "include_submit": false,
     "lock_notebook": false
    },
    "tools": {}
   },
   "should_be_locked": false
  }
 },
 "nbformat": 4,
 "nbformat_minor": 2
}
