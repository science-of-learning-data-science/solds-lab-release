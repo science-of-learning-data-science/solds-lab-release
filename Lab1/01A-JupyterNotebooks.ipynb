{
 "cells": [
  {
   "cell_type": "markdown",
   "metadata": {
    "cell_id": "00000-d1a22c98-2519-40d6-8858-a7407ce90314",
    "metadata": {
     "deletable": false,
     "editable": false,
     "trusted": true
    },
    "nbgrader": {
     "grade": false,
     "grade_id": "cell-3b0b9a2835974ada",
     "locked": true,
     "schema_version": 3,
     "solution": false,
     "task": false
    }
   },
   "source": [
    "# Lab 1A: Introduction to Jupyter Notebooks"
   ]
  },
  {
   "cell_type": "markdown",
   "metadata": {
    "nbgrader": {
     "grade": false,
     "grade_id": "cell-1d85b71ec9880163",
     "locked": true,
     "schema_version": 3,
     "solution": false,
     "task": false
    }
   },
   "source": [
    "## Part 0 - Collaboration on lab assignments in PSYC 193L\n",
    "\n",
    "We strongly believe in the value of collaborating with your peers for enhancing your learning experience in PSYC 193L. Being able to successfully collaborate with others is an important skill to have when you enter the workforce, and everyone can get better at collaboration with practice. However, for collaboration to be maximally valuable, we need to set some ground rules, building on the expectations laid out in the [course syllabus](https://science-of-learning-data-science.github.io/): Show Up, Try, Ask for Help When You Need It, Be Professional. \n",
    "\n",
    "\n",
    "### Guidelines\n",
    "* Rotate responsibilities between group members. \n",
    "* Choose a driver and a navigator.\n",
    "* Discuss your thinking process openly with your group. \n",
    "* Be supportive, respectful, and patient with one another.\n",
    "\n",
    "#### Rotate responsibilities between group members. \n",
    "You will generally be working with the same people (from your discussion section) for each lab, and a new group of people for the next lab. Because you will be working with the same classmates for the next week or so, you will have the opportunity to share responsibilities with one another. \n",
    "\n",
    "#### Choose a driver and a navigator.\n",
    "We suggest that one group member volunteer to act as the \"driver\" (and share their screen) while the other group members act as the \"navigators.\" Next time, it is a good idea to exchange roles, so that everyone gets a chance to act as the driver at least once, if possible. \n",
    "\n",
    "#### Discuss your thinking process openly with your group. \n",
    "We suggest that you discuss the way you are thinking about each problem with your group. It is more important to us that you gain practice explaining your reasoning to yourself and to your peers than it is to simply state what you think the \"right answer\" is, without explaining your reasoning. \n",
    "\n",
    "#### Be supportive, respectful, and patient with one another. \n",
    "Try to give everyone an opportunity to play both a leading and supporting role. If you feel relatively comfortable with R, we encourage you to proactively encourage other members of your group who feel the least confident about writing R code to take a leading role. If you feel less confident about your R skills, please know that you are not alone! With practice and persistence over the course of the coming weeks, you will find your skills improving! \n",
    "\n",
    "#### Every student is still responsible for submitting their own lab assignments. \n",
    "Although you are encouraged to work together on these lab assignments, please remember that everyone is responsible for submitting their own assignments on Canvas. \n"
   ]
  },
  {
   "cell_type": "markdown",
   "metadata": {
    "cell_id": "00001-f9f4fafb-e37f-4d68-a650-01a90f22177d",
    "nbgrader": {
     "grade": false,
     "grade_id": "cell-d0d7bf033f1b49a6",
     "locked": true,
     "schema_version": 3,
     "solution": false,
     "task": false
    },
    "tags": []
   },
   "source": [
    "## Part 1- What is a Jupyter Notebook?"
   ]
  },
  {
   "cell_type": "markdown",
   "metadata": {
    "cell_id": "00002-0ee9a969-841b-4e09-800c-5f132a2bf6db",
    "nbgrader": {
     "grade": false,
     "grade_id": "cell-ff52437568869975",
     "locked": true,
     "schema_version": 3,
     "solution": false,
     "task": false
    }
   },
   "source": [
    "You have been learning R in the textbook using *DataCamp* exercises and the *DataCamp* sandbox. But statisticians and data scientists don't use *DataCamp* in their work. They use either RStudio or Jupyter Notebooks. That's why we'll be learning Jupyter Notebooks too!\n",
    "\n",
    "### What does \"Jupyter\" mean and how is it different from \"R?\"\n",
    "“Jupyter” is the name of the internet browser-based environment we are using to write code and immediately see what each line of code does. “R” is the name of the computer programming language we are using to explore, visualize, and analyze data.\n",
    "\n",
    "### So... what is a Jupyter notebook?\n",
    "- **A notebook is a page.** It's kind of like a Word document made up of different blocks called \"cells\". The page you are looking at right now is a single Jupyter Notebook. In some ways it is like any other document. But there is one important difference: if you write code on a Jupyter Notebook page the code can be run right on the page. And if you run the code, the output will be inserted on the page right below the code. No need for a separate DataCamp sandbox!\n",
    "- **A notebook consists of a series of cells.** There are two kinds of cells: **code** cells and **markdown** cells. A really nice thing about a Jupyter notebook is that when you run some code, the output will appear right below it.\n",
    "- **A notebook is a great way to organize, present, and share a data analysis.** The notebook format fits well with the practice of data analysis. In a markdown cell you can pose questions and then propose a data analysis plan. You can then add a code cell to write R code and actually run the analyses you want to run. After you run an analysis, you can add another markdown cell to interpret the results of the anlysis you ran."
   ]
  },
  {
   "cell_type": "markdown",
   "metadata": {
    "cell_id": "00003-9cfa0808-e186-4e86-86a9-61602d2cbbad",
    "nbgrader": {
     "grade": false,
     "grade_id": "cell-1cccaab88fefa20b",
     "locked": true,
     "schema_version": 3,
     "solution": false,
     "task": false
    }
   },
   "source": [
    "### Jupyter notebooks have two modes (\"edit\" and \"command\" modes)\n",
    "If you have a cell selected, the left margin is blue.\n",
    "\n",
    "Edit mode: To switch to EDIT mode, press ENTER on your keyboard. If you are in EDIT mode, the left margin is green and you can type in the cells.\n",
    "\n",
    "You can also go into EDIT mode by double-clicking in a markdown cell or clicking in a code cell.\n",
    "\n",
    "Command mode: To switch to COMMAND mode press ESC. If you are in COMMAND mode, the left margin is blue and you cannot type in the cells. But you can use keystroke equivalents for navigating around your notebook. (Click the keyboard icon on the toolbar to start learning keystroke equivalents.)\n",
    "\n",
    "You can also go into COMMAND mode by clicking anywhere outside the cell or pressing SHIFT + RETURN (more on that below)."
   ]
  },
  {
   "cell_type": "markdown",
   "metadata": {
    "cell_id": "00004-2eb1f11d-6b2b-47d8-924d-12151d1548f3",
    "tags": []
   },
   "source": [
    "### Markdown cells\n",
    "Click on this text. This is a **Markdown** cell. If you double-click inside this cell you can edit it!\n",
    "\n",
    "1. Select this cell. The blue bar on the left side shows that the cell is selected\n",
    "2. Then press ENTER. The green bar shows that the cell is in edit mode. The font changes too!\n",
    "3. Look at the dropdown menu on the toolbar above and you will see that it says Markdown. That's how you can tell for sure what kind of cell you have selected. (You also can use the dropdown to change one cell type to another.)\n",
    "4. When you are in edit mode the markdown text isn't as nicely formatted. Markdown is a way to enter plain text, and make it look nicely formatted when it is finally rendered in a page.\n",
    "5. To render a markdown cell, you just need to run it. You can do this in a number of ways:\n"
   ]
  },
  {
   "cell_type": "markdown",
   "metadata": {},
   "source": [
    "### YOUR TURN: Practice with Markdown cells\n",
    "\n",
    "Try it! Write your name and your favorite food here:\n",
    "\n",
    "\n",
    "\n",
    "(After writing, try hitting SHIFT + RETURN.\n",
    "You could also hit the \"Run\" button at the top of the notebook.)"
   ]
  },
  {
   "cell_type": "markdown",
   "metadata": {
    "nbgrader": {
     "grade": false,
     "grade_id": "cell-81d7a15e2d144c3f",
     "locked": true,
     "schema_version": 3,
     "solution": false,
     "task": false
    }
   },
   "source": [
    "### Code cells\n",
    "\n",
    "Now let's look at code cells and see how they work. The cell right below this one is a code cell. One way to instantly see that it's a code cell is that it has the notation `In [  ]:` off to the left of it.\n",
    "\n",
    "By now you probably recognize the R code in the cell below: it tells R to print out the phrase \"Hello World.\" The `In` means **Input**. After you run the code, the **output** will appear below it.\n",
    "\n",
    "**TRY THIS**: Click the code cell below or use the down arrow. Note that the bar to the left turns blue when selected. Then press ENTER; the bar will turn green when the cell is in edit mode. Now run the code cell by clicking SHIFT + RETURN (or by using either of the other two methods you've learned for running a cell)."
   ]
  },
  {
   "cell_type": "code",
   "execution_count": null,
   "metadata": {
    "cell_id": "00004-e4bec189-d240-4ec6-a276-3d21dff94a46",
    "output_cleared": false,
    "tags": []
   },
   "outputs": [],
   "source": [
    "# This is a CODE cell!\n",
    "# You can use it as a calculator or for running R code \n",
    "\n",
    "4 * 25\n",
    "\n",
    "# Click inside this code cell\n",
    "# Then press SHIFT + RETURN or \"Run\""
   ]
  },
  {
   "cell_type": "markdown",
   "metadata": {
    "cell_id": "00005-1af8fa7f-3534-48bf-af71-f840c8162091",
    "nbgrader": {
     "grade": false,
     "grade_id": "cell-3f095156bb89d114",
     "locked": true,
     "schema_version": 3,
     "solution": false,
     "task": false
    },
    "tags": []
   },
   "source": [
    "Notice that two things happened when you ran the code cell:\n",
    "- The output of the code (100) appeared right below the code.\n",
    "- The `In [ ]` changed to have a number inside of it.\n",
    "\n",
    "Try running the cell again. How does it change? What do you think the number inside `In [ ]` means?"
   ]
  },
  {
   "cell_type": "code",
   "execution_count": null,
   "metadata": {},
   "outputs": [],
   "source": [
    "# You can use R to \"print\" messages to the console. Run this cell to see for yourself!\n",
    "print(\"Hello World\")"
   ]
  },
  {
   "cell_type": "markdown",
   "metadata": {
    "cell_id": "00007-876b8f70-6429-4747-8120-62f1192d7058",
    "nbgrader": {
     "grade": false,
     "grade_id": "cell-51d80df9393f594c",
     "locked": true,
     "schema_version": 3,
     "solution": false,
     "task": false
    },
    "tags": []
   },
   "source": [
    "Notice that when you are editing a MARKDOWN cell, it sometimes looks like code (because the font is different), \n",
    "but it is not the same as R code. It's just regular writing.\n",
    "\n",
    "But MARKDOWN and CODE cells are similar because both kinds of cells need to be \"Run\" (with the \"Run\" button or with SHIFT + RETURN)."
   ]
  },
  {
   "cell_type": "markdown",
   "metadata": {
    "cell_id": "00008-547d8673-f5d3-4334-807e-28e7abc7005d",
    "nbgrader": {
     "grade": false,
     "grade_id": "cell-459eef9064a62be0",
     "locked": true,
     "schema_version": 3,
     "solution": false,
     "task": false
    },
    "tags": []
   },
   "source": [
    "## Part 2 - What are Jupyter notebooks for?"
   ]
  },
  {
   "cell_type": "markdown",
   "metadata": {
    "cell_id": "00004-5446a6b0-4273-41bf-a8ce-3a0197c6ffb7",
    "nbgrader": {
     "grade": false,
     "grade_id": "cell-fe15f20947a4ac94",
     "locked": true,
     "schema_version": 3,
     "solution": false,
     "task": false
    },
    "tags": []
   },
   "source": [
    "Since data science is about answering questions using data, these notebooks are a great way to share what you have discovered with others!\n",
    "\n",
    "A good notebook is NOT just a bunch of code and numbers and graphs. \n",
    "\n",
    "A good notebook has regular text in it (mixed in with the code, numbers, and graphs) to help people understand the questions you are trying to answer and what you did to answer those questions."
   ]
  },
  {
   "cell_type": "markdown",
   "metadata": {
    "cell_id": "00008-b6247317-f748-478d-a788-3a3b31de54de",
    "nbgrader": {
     "grade": false,
     "grade_id": "cell-89449080341b7831",
     "locked": true,
     "schema_version": 3,
     "solution": false,
     "task": false
    },
    "tags": []
   },
   "source": [
    "## Part 3 - Adding new MARKDOWN and CODE cells"
   ]
  },
  {
   "cell_type": "markdown",
   "metadata": {
    "cell_id": "00009-a1c337fc-6bb1-430d-acfc-8cfdf6ecac88",
    "tags": []
   },
   "source": [
    "You can insert a new cell anywhere in the notebook.\n",
    "\n",
    "Select this cell by clicking on it (the bar along the left side will turn blue).\n",
    "\n",
    "Then, add a new cell below this one by just pressing the letter **b** on your keyboard.\n",
    "\n",
    "Try it!\n"
   ]
  },
  {
   "cell_type": "markdown",
   "metadata": {
    "cell_id": "00012-5dab1469-eb30-4caa-8462-3dfc2f4e3008",
    "nbgrader": {
     "grade": false,
     "grade_id": "cell-88117ea7a028dfec",
     "locked": true,
     "schema_version": 3,
     "solution": false,
     "task": false
    },
    "tags": []
   },
   "source": [
    "What kind of cell did you insert?\n",
    "\n",
    "**WRITE YOUR RESPONSE HERE**\n",
    "\n",
    "Can you figure out how to change it from Code to Markdown (or from Markdown to Code)? "
   ]
  },
  {
   "cell_type": "markdown",
   "metadata": {
    "cell_id": "00011-c23828d5-6962-4331-8f80-802175536110",
    "nbgrader": {
     "grade": false,
     "grade_id": "cell-7ba3c3bbaa2cd0c9",
     "locked": true,
     "schema_version": 3,
     "solution": false,
     "task": false
    },
    "tags": []
   },
   "source": [
    "You may also want to delete a cell.\n",
    "\n",
    "Click on the cell below that says `DELETE ME` (side should turn blue). \n",
    "Then delete it by pressing the letters **d d** on your keyboard."
   ]
  },
  {
   "cell_type": "markdown",
   "metadata": {},
   "source": [
    "**DELETE ME**"
   ]
  },
  {
   "cell_type": "markdown",
   "metadata": {
    "cell_id": "00014-e1c59a7c-cd8d-4570-b020-96289a3dd09a",
    "nbgrader": {
     "grade": false,
     "grade_id": "cell-731e9f7f84e5f579",
     "locked": true,
     "schema_version": 3,
     "solution": false,
     "task": false
    },
    "tags": []
   },
   "source": [
    "## Part 4 - Order Matters"
   ]
  },
  {
   "cell_type": "markdown",
   "metadata": {
    "cell_id": "00015-5a27501e-c940-4b0b-97ae-8ad26326955b",
    "nbgrader": {
     "grade": false,
     "grade_id": "cell-8a40768202d99bac",
     "locked": true,
     "schema_version": 3,
     "solution": false,
     "task": false
    }
   },
   "source": [
    "Since a notebook is a way to tell a story, the order of the cells matters, especially for our code cells.\n",
    "\n",
    "One thing to keep in mind is that all the cells in a Jupyter Notebook are connected to each other. So you want to organize your code cells in order from top to bottom. \n",
    "\n",
    "Let's try an example."
   ]
  },
  {
   "cell_type": "code",
   "execution_count": null,
   "metadata": {
    "cell_id": "00015-8d84a2ff-d8a8-498d-b6ad-1b87b7604c7a",
    "output_cleared": false,
    "tags": []
   },
   "outputs": [],
   "source": [
    "# Read this code. Predict which number will print out.\n",
    "\n",
    "mymoney <- 15 \n",
    "mymoney <- 2\n",
    "\n",
    "mymoney"
   ]
  },
  {
   "cell_type": "markdown",
   "metadata": {
    "cell_id": "00015-fea6a559-31df-4a73-b771-11362d581a29",
    "nbgrader": {
     "grade": false,
     "grade_id": "cell-74d3040f88079f1b",
     "locked": true,
     "schema_version": 3,
     "solution": false,
     "task": false
    },
    "tags": []
   },
   "source": [
    "Why did it print that number? "
   ]
  },
  {
   "cell_type": "markdown",
   "metadata": {},
   "source": [
    "**WRITE YOUR RESPONSE HERE**"
   ]
  },
  {
   "cell_type": "markdown",
   "metadata": {},
   "source": [
    "## All done? Great work!\n",
    "\n",
    "Please add additional comments regarding either what you learned during this lab assignment so far, or aspects of it you found particularly challenging here.\n",
    "\n",
    "**WRITE YOUR RESPONSE HERE**"
   ]
  }
 ],
 "metadata": {
  "celltoolbar": "Create Assignment",
  "deepnote_execution_queue": [],
  "deepnote_notebook_id": "4384b575-e36f-4ce6-8b82-47aefa70d439",
  "kernelspec": {
   "display_name": "R",
   "language": "R",
   "name": "ir"
  },
  "language_info": {
   "codemirror_mode": "r",
   "file_extension": ".r",
   "mimetype": "text/x-r-source",
   "name": "R",
   "pygments_lexer": "r",
   "version": "4.1.0"
  },
  "nbsimplegrader": {
   "is_published": false,
   "publish_config": {
    "classes": {},
    "options": {
     "include_submit": false,
     "lock_notebook": false
    },
    "tools": {}
   },
   "should_be_locked": false
  }
 },
 "nbformat": 4,
 "nbformat_minor": 2
}
